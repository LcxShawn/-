{
 "cells": [
  {
   "cell_type": "code",
   "execution_count": 9,
   "metadata": {},
   "outputs": [],
   "source": [
    "import pandas as pd\n",
    "import numpy as np\n",
    "data = pd.read_excel('每日行情数据统计_600567.xlsx')\n",
    "data=data.loc[:,['交易日期','收盘价(元)']]\n",
    "data=data.rename(columns={'交易日期': 'Date', '收盘价(元)': 'close'})\n",
    "data=data.head(243)\n",
    "\n",
    "\n",
    "\n"
   ]
  },
  {
   "cell_type": "code",
   "execution_count": 20,
   "metadata": {},
   "outputs": [
    {
     "name": "stdout",
     "output_type": "stream",
     "text": [
      "0.015737529250406435\n",
      "233    0.004444\n",
      "234   -0.004425\n",
      "235    0.017778\n",
      "236   -0.008734\n",
      "237    0.013216\n",
      "238   -0.004348\n",
      "239   -0.026201\n",
      "240    0.004484\n",
      "241   -0.004464\n",
      "242   -0.004484\n",
      "Name: daily_return, dtype: float64\n",
      "0.0016126296519820256\n"
     ]
    }
   ],
   "source": [
    "#计算波动率（每日收益率的波动率+期望）\n",
    "#data是一个pandas的DataFrame，有两列，第一列是日期，第二列是收盘价\n",
    "#返回一个float，波动率\n",
    "#波动率在随机游走模型中必须是一个正值\n",
    "import pandas as pd\n",
    "import numpy as np    \n",
    "def volatility(data):\n",
    "    #计算每日收益率\n",
    "    data['daily_return'] = data['close'].pct_change()\n",
    "    #计算波动率\n",
    "    return data['daily_return'].std()\n",
    "def expected_daily_return(data):\n",
    "    data['daily_return'] = data['close'].pct_change()\n",
    "    data.dropna(inplace=True)\n",
    "    expected_daily_return = data['daily_return'].mean()\n",
    "    print(data['daily_return'].tail(10))\n",
    "    return expected_daily_return\n",
    "\n",
    "print(volatility(data))\n",
    "print(expected_daily_return(data))"
   ]
  },
  {
   "cell_type": "code",
   "execution_count": null,
   "metadata": {},
   "outputs": [],
   "source": [
    "#1、连续120个交易日通过本所交易系统实现的累计股票成交量低于500万股；\n",
    "\n"
   ]
  },
  {
   "cell_type": "code",
   "execution_count": 15,
   "metadata": {},
   "outputs": [
    {
     "data": {
      "text/plain": [
       "0.10896189365719494"
      ]
     },
     "execution_count": 15,
     "metadata": {},
     "output_type": "execute_result"
    }
   ],
   "source": [
    "#2、连续20个交易日的每日股票收盘价均低于1元；\n",
    "#未来有一天股价低于1元的概率\n",
    "#vol 表示股价的波动率。(t ** 0.5) 表示时间 t 的平方根，这是因为在随机游走模型中，股价的波动随着时间的平方根增长。\n",
    "from scipy import stats\n",
    "import numpy as np\n",
    "\n",
    "vol=volatility(data)\n",
    "t=300\n",
    "s=1.47\n",
    "p = stats.norm.cdf((np.log(1) - np.log(s)) / (vol * (t ** 0.5)))\n",
    "p"
   ]
  },
  {
   "cell_type": "code",
   "execution_count": 16,
   "metadata": {},
   "outputs": [
    {
     "name": "stdout",
     "output_type": "stream",
     "text": [
      "股价连续 20 天低于 1 元的概率: 0.0019\n"
     ]
    }
   ],
   "source": [
    "#2、连续20个交易日的每日股票收盘价均低于1元；\n",
    "#蒙特卡洛\n",
    "import numpy as np\n",
    "import pandas as pd\n",
    "\n",
    "def simulate_stock_paths(S0, mu, sigma, T, dt, num_simulations):\n",
    "    \"\"\"\n",
    "    模拟股票价格路径\n",
    "    S0: 初始股价\n",
    "    mu: 每日收益率的期望值\n",
    "    sigma: 每日收益率的波动率\n",
    "    T: 总时间（天）\n",
    "    dt: 时间步长（天）\n",
    "    num_simulations: 模拟路径数量\n",
    "    \"\"\"\n",
    "    num_steps = int(T / dt)\n",
    "    paths = np.zeros((num_simulations, num_steps))\n",
    "    paths[:, 0] = S0\n",
    "\n",
    "    for t in range(1, num_steps):\n",
    "        z = np.random.standard_normal(num_simulations)\n",
    "        paths[:, t] = paths[:, t - 1] * np.exp((mu - 0.5 * sigma**2) * dt + sigma * np.sqrt(dt) * z)\n",
    "    \n",
    "    return paths\n",
    "\n",
    "def estimate_probability(S0, mu, sigma, T, dt, num_simulations, threshold, duration):\n",
    "    \"\"\"\n",
    "    估计股价连续低于某一水平的概率\n",
    "    S0: 初始股价\n",
    "    mu: 每日收益率的期望值\n",
    "    sigma: 每日收益率的波动率\n",
    "    T: 总时间（天）\n",
    "    dt: 时间步长（天）\n",
    "    num_simulations: 模拟路径数量\n",
    "    threshold: 股价阈值（1元）\n",
    "    duration: 连续低于阈值的天数（20天）\n",
    "    \"\"\"\n",
    "    paths = simulate_stock_paths(S0, mu, sigma, T, dt, num_simulations)\n",
    "    count = 0\n",
    "\n",
    "    for path in paths:\n",
    "        for i in range(len(path) - duration + 1):\n",
    "            if np.all(path[i:i+duration] < threshold):\n",
    "                count += 1\n",
    "                break\n",
    "    \n",
    "    probability = count / num_simulations\n",
    "    return probability\n",
    "\n",
    "# 参数设置\n",
    "S0 = 1.47  # 初始股价\n",
    "mu = expected_daily_return(data) # 每日收益率的期望值\n",
    "sigma = volatility(data)  # 每日收益率的波动率\n",
    "T = 300  # 总时间（天）\n",
    "dt = 1  # 时间步长（天）\n",
    "num_simulations = 10000  # 模拟路径数量\n",
    "threshold = 1  # 股价阈值\n",
    "duration = 20  # 连续低于阈值的天数\n",
    "\n",
    "# 估计概率\n",
    "probability = estimate_probability(S0, mu, sigma, T, dt, num_simulations, threshold, duration)\n",
    "print(f\"股价连续 {duration} 天低于 {threshold} 元的概率: {probability:}\")\n"
   ]
  },
  {
   "cell_type": "code",
   "execution_count": null,
   "metadata": {},
   "outputs": [],
   "source": [
    "#3、连续20个交易日的每日股票收盘总市值均低于5亿元；\n"
   ]
  },
  {
   "cell_type": "code",
   "execution_count": null,
   "metadata": {},
   "outputs": [],
   "source": [
    "#4、公司连续二十个交易日股东人数均少于 2000 人；"
   ]
  },
  {
   "cell_type": "code",
   "execution_count": null,
   "metadata": {},
   "outputs": [],
   "source": []
  }
 ],
 "metadata": {
  "kernelspec": {
   "display_name": "base",
   "language": "python",
   "name": "python3"
  },
  "language_info": {
   "codemirror_mode": {
    "name": "ipython",
    "version": 3
   },
   "file_extension": ".py",
   "mimetype": "text/x-python",
   "name": "python",
   "nbconvert_exporter": "python",
   "pygments_lexer": "ipython3",
   "version": "3.11.5"
  }
 },
 "nbformat": 4,
 "nbformat_minor": 2
}
